{
 "cells": [
  {
   "cell_type": "code",
   "execution_count": 17,
   "id": "201b7994",
   "metadata": {},
   "outputs": [],
   "source": [
    "from pandas import read_csv\n",
    "import numpy as np"
   ]
  },
  {
   "cell_type": "code",
   "execution_count": 5,
   "id": "c7882cc3",
   "metadata": {},
   "outputs": [],
   "source": [
    "df = read_csv('airline-data.csv',usecols=[1])"
   ]
  },
  {
   "cell_type": "code",
   "execution_count": 6,
   "id": "89c144e5",
   "metadata": {},
   "outputs": [
    {
     "data": {
      "text/html": [
       "<div>\n",
       "<style scoped>\n",
       "    .dataframe tbody tr th:only-of-type {\n",
       "        vertical-align: middle;\n",
       "    }\n",
       "\n",
       "    .dataframe tbody tr th {\n",
       "        vertical-align: top;\n",
       "    }\n",
       "\n",
       "    .dataframe thead th {\n",
       "        text-align: right;\n",
       "    }\n",
       "</style>\n",
       "<table border=\"1\" class=\"dataframe\">\n",
       "  <thead>\n",
       "    <tr style=\"text-align: right;\">\n",
       "      <th></th>\n",
       "      <th>International airline passengers: monthly totals in thousands. Jan 49 ? Dec 60</th>\n",
       "    </tr>\n",
       "  </thead>\n",
       "  <tbody>\n",
       "    <tr>\n",
       "      <th>count</th>\n",
       "      <td>144.000000</td>\n",
       "    </tr>\n",
       "    <tr>\n",
       "      <th>mean</th>\n",
       "      <td>280.298611</td>\n",
       "    </tr>\n",
       "    <tr>\n",
       "      <th>std</th>\n",
       "      <td>119.966317</td>\n",
       "    </tr>\n",
       "    <tr>\n",
       "      <th>min</th>\n",
       "      <td>104.000000</td>\n",
       "    </tr>\n",
       "    <tr>\n",
       "      <th>25%</th>\n",
       "      <td>180.000000</td>\n",
       "    </tr>\n",
       "    <tr>\n",
       "      <th>50%</th>\n",
       "      <td>265.500000</td>\n",
       "    </tr>\n",
       "    <tr>\n",
       "      <th>75%</th>\n",
       "      <td>360.500000</td>\n",
       "    </tr>\n",
       "    <tr>\n",
       "      <th>max</th>\n",
       "      <td>622.000000</td>\n",
       "    </tr>\n",
       "  </tbody>\n",
       "</table>\n",
       "</div>"
      ],
      "text/plain": [
       "       International airline passengers: monthly totals in thousands. Jan 49 ? Dec 60\n",
       "count                                         144.000000                             \n",
       "mean                                          280.298611                             \n",
       "std                                           119.966317                             \n",
       "min                                           104.000000                             \n",
       "25%                                           180.000000                             \n",
       "50%                                           265.500000                             \n",
       "75%                                           360.500000                             \n",
       "max                                           622.000000                             "
      ]
     },
     "execution_count": 6,
     "metadata": {},
     "output_type": "execute_result"
    }
   ],
   "source": [
    "df.describe()"
   ]
  },
  {
   "cell_type": "code",
   "execution_count": null,
   "id": "f4872b0c",
   "metadata": {},
   "outputs": [],
   "source": []
  },
  {
   "cell_type": "code",
   "execution_count": 7,
   "id": "c0b1b21b",
   "metadata": {},
   "outputs": [
    {
     "data": {
      "text/plain": [
       "array([[112.],\n",
       "       [118.],\n",
       "       [132.],\n",
       "       [129.],\n",
       "       [121.],\n",
       "       [135.],\n",
       "       [148.],\n",
       "       [148.],\n",
       "       [136.],\n",
       "       [119.],\n",
       "       [104.],\n",
       "       [118.],\n",
       "       [115.],\n",
       "       [126.],\n",
       "       [141.],\n",
       "       [135.],\n",
       "       [125.],\n",
       "       [149.],\n",
       "       [170.],\n",
       "       [170.],\n",
       "       [158.],\n",
       "       [133.],\n",
       "       [114.],\n",
       "       [140.],\n",
       "       [145.],\n",
       "       [150.],\n",
       "       [178.],\n",
       "       [163.],\n",
       "       [172.],\n",
       "       [178.],\n",
       "       [199.],\n",
       "       [199.],\n",
       "       [184.],\n",
       "       [162.],\n",
       "       [146.],\n",
       "       [166.],\n",
       "       [171.],\n",
       "       [180.],\n",
       "       [193.],\n",
       "       [181.],\n",
       "       [183.],\n",
       "       [218.],\n",
       "       [230.],\n",
       "       [242.],\n",
       "       [209.],\n",
       "       [191.],\n",
       "       [172.],\n",
       "       [194.],\n",
       "       [196.],\n",
       "       [196.],\n",
       "       [236.],\n",
       "       [235.],\n",
       "       [229.],\n",
       "       [243.],\n",
       "       [264.],\n",
       "       [272.],\n",
       "       [237.],\n",
       "       [211.],\n",
       "       [180.],\n",
       "       [201.],\n",
       "       [204.],\n",
       "       [188.],\n",
       "       [235.],\n",
       "       [227.],\n",
       "       [234.],\n",
       "       [264.],\n",
       "       [302.],\n",
       "       [293.],\n",
       "       [259.],\n",
       "       [229.],\n",
       "       [203.],\n",
       "       [229.],\n",
       "       [242.],\n",
       "       [233.],\n",
       "       [267.],\n",
       "       [269.],\n",
       "       [270.],\n",
       "       [315.],\n",
       "       [364.],\n",
       "       [347.],\n",
       "       [312.],\n",
       "       [274.],\n",
       "       [237.],\n",
       "       [278.],\n",
       "       [284.],\n",
       "       [277.],\n",
       "       [317.],\n",
       "       [313.],\n",
       "       [318.],\n",
       "       [374.],\n",
       "       [413.],\n",
       "       [405.],\n",
       "       [355.],\n",
       "       [306.],\n",
       "       [271.],\n",
       "       [306.],\n",
       "       [315.],\n",
       "       [301.],\n",
       "       [356.],\n",
       "       [348.],\n",
       "       [355.],\n",
       "       [422.],\n",
       "       [465.],\n",
       "       [467.],\n",
       "       [404.],\n",
       "       [347.],\n",
       "       [305.],\n",
       "       [336.],\n",
       "       [340.],\n",
       "       [318.],\n",
       "       [362.],\n",
       "       [348.],\n",
       "       [363.],\n",
       "       [435.],\n",
       "       [491.],\n",
       "       [505.],\n",
       "       [404.],\n",
       "       [359.],\n",
       "       [310.],\n",
       "       [337.],\n",
       "       [360.],\n",
       "       [342.],\n",
       "       [406.],\n",
       "       [396.],\n",
       "       [420.],\n",
       "       [472.],\n",
       "       [548.],\n",
       "       [559.],\n",
       "       [463.],\n",
       "       [407.],\n",
       "       [362.],\n",
       "       [405.],\n",
       "       [417.],\n",
       "       [391.],\n",
       "       [419.],\n",
       "       [461.],\n",
       "       [472.],\n",
       "       [535.],\n",
       "       [622.],\n",
       "       [606.],\n",
       "       [508.],\n",
       "       [461.],\n",
       "       [390.],\n",
       "       [432.]], dtype=float32)"
      ]
     },
     "execution_count": 7,
     "metadata": {},
     "output_type": "execute_result"
    }
   ],
   "source": [
    "values = df.values.astype('float32')\n",
    "values"
   ]
  },
  {
   "cell_type": "code",
   "execution_count": 9,
   "id": "7684dbd6",
   "metadata": {},
   "outputs": [
    {
     "data": {
      "text/plain": [
       "(144, 1)"
      ]
     },
     "execution_count": 9,
     "metadata": {},
     "output_type": "execute_result"
    }
   ],
   "source": [
    "values.shape"
   ]
  },
  {
   "cell_type": "code",
   "execution_count": 11,
   "id": "bde1a752",
   "metadata": {},
   "outputs": [
    {
     "data": {
      "text/plain": [
       "96"
      ]
     },
     "execution_count": 11,
     "metadata": {},
     "output_type": "execute_result"
    }
   ],
   "source": [
    "train_size = int(values.shape[0]*0.67)\n",
    "train_size"
   ]
  },
  {
   "cell_type": "code",
   "execution_count": 15,
   "id": "0e71a4f9",
   "metadata": {},
   "outputs": [],
   "source": [
    "test_size = values.shape[0]-train_size\n",
    "train = values[0:train_size]\n",
    "test = values[train_size:]"
   ]
  },
  {
   "cell_type": "code",
   "execution_count": 16,
   "id": "548dd700",
   "metadata": {},
   "outputs": [],
   "source": [
    "from sklearn.preprocessing import MinMaxScaler\n",
    "scaler = MinMaxScaler(feature_range=(0,1))\n",
    "train  = scaler.fit_transform(train)\n",
    "test = scaler.transform(test)"
   ]
  },
  {
   "cell_type": "code",
   "execution_count": 23,
   "id": "8333a6a3",
   "metadata": {},
   "outputs": [],
   "source": [
    "def create_dataset(data,k):\n",
    "    dataX , dataY = [],[]\n",
    "    \n",
    "    for i in range(data.shape[0]-k):\n",
    "        x = data[i:i+k,0]\n",
    "        y = data[i+k,0]\n",
    "        dataX.append(x)\n",
    "        dataY.append(y)\n",
    "    \n",
    "    return np.array(dataX),np.array(dataY)"
   ]
  },
  {
   "cell_type": "code",
   "execution_count": 27,
   "id": "61d74dc1",
   "metadata": {},
   "outputs": [],
   "source": [
    "look_back = 12\n",
    "train_data = create_dataset(train,look_back)\n",
    "test_data = create_dataset(test,look_back)\n"
   ]
  },
  {
   "cell_type": "code",
   "execution_count": null,
   "id": "55584cad",
   "metadata": {},
   "outputs": [],
   "source": []
  },
  {
   "cell_type": "code",
   "execution_count": null,
   "id": "44621fc2",
   "metadata": {},
   "outputs": [],
   "source": []
  }
 ],
 "metadata": {
  "kernelspec": {
   "display_name": "Python 3 (ipykernel)",
   "language": "python",
   "name": "python3"
  },
  "language_info": {
   "codemirror_mode": {
    "name": "ipython",
    "version": 3
   },
   "file_extension": ".py",
   "mimetype": "text/x-python",
   "name": "python",
   "nbconvert_exporter": "python",
   "pygments_lexer": "ipython3",
   "version": "3.11.4"
  }
 },
 "nbformat": 4,
 "nbformat_minor": 5
}
