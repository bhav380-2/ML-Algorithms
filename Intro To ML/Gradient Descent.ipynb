{
 "cells": [
  {
   "cell_type": "code",
   "execution_count": 6,
   "id": "6fdf127d",
   "metadata": {},
   "outputs": [],
   "source": [
    "import numpy as np"
   ]
  },
  {
   "cell_type": "markdown",
   "id": "b0321539",
   "metadata": {},
   "source": [
    "# gradient descent for m*1 input"
   ]
  },
  {
   "cell_type": "code",
   "execution_count": 8,
   "id": "f47fae75",
   "metadata": {},
   "outputs": [],
   "source": [
    "def cost(points,m,c):\n",
    "    total_cost = 0\n",
    "    M=len(points)\n",
    "    for i in range(M):\n",
    "        x = points[i,0]\n",
    "        y = points[i,1]\n",
    "        \n",
    "        total_cost += (1/M)*(y-m*x-c)**2\n",
    "    \n",
    "    return total_cost"
   ]
  },
  {
   "cell_type": "code",
   "execution_count": 9,
   "id": "af8505ee",
   "metadata": {},
   "outputs": [],
   "source": [
    "def step_gradient(points,learning_rate,m,c):\n",
    "    \n",
    "    m_slope=0\n",
    "    c_slope =0\n",
    "    \n",
    "    N = len(points)\n",
    "\n",
    "    \n",
    "    for i in range(N):\n",
    "        x = points[i,0]\n",
    "        y = points[i,1]\n",
    "        m_slope += (-2/N)*(y-m*x-c)*x\n",
    "        c_slope += (-2/N)*(y-m*x-c)\n",
    "        \n",
    "    new_m = m-learning_rate*m_slope\n",
    "    new_c = c - learning_rate*c_slope\n",
    "    \n",
    "    return new_m,new_c\n",
    "        \n",
    "        "
   ]
  },
  {
   "cell_type": "code",
   "execution_count": 10,
   "id": "9f354407",
   "metadata": {},
   "outputs": [],
   "source": [
    "def gd(points,learning_rate,num_iterations):\n",
    "    m=0  # declare random m , c\n",
    "    c=0\n",
    "    \n",
    "    for i in range(num_iterations):\n",
    "        m,c = step_gradient(points,learning_rate,m,c)\n",
    "        print(i,\" Cost : \",cost(points,m,c))\n",
    "    \n",
    "    return m,c\n",
    "    \n"
   ]
  },
  {
   "cell_type": "code",
   "execution_count": 11,
   "id": "3573b859",
   "metadata": {},
   "outputs": [],
   "source": [
    "def run() :\n",
    "    data = np.loadtxt(\"data.csv\",delimiter=\",\") \n",
    "    learning_rate = 0.001\n",
    "    num_iterations = 100\n",
    "    m,c = gd(data,learning_rate,num_iterations)\n",
    "    print(m,c)"
   ]
  },
  {
   "cell_type": "code",
   "execution_count": 12,
   "id": "12469f05",
   "metadata": {},
   "outputs": [
    {
     "name": "stdout",
     "output_type": "stream",
     "text": [
      "0  Cost :  86564.94746988629\n",
      "1  Cost :  1370874.5766570896\n",
      "2  Cost :  21734510.24615335\n",
      "3  Cost :  344614326.9632619\n",
      "4  Cost :  5464101717.883182\n",
      "5  Cost :  86637187766.65059\n",
      "6  Cost :  1373693761119.5166\n",
      "7  Cost :  21780884169226.12\n",
      "8  Cost :  345351292009054.4\n",
      "9  Cost :  5475788492616656.0\n",
      "10  Cost :  8.68224915026392e+16\n",
      "11  Cost :  1.3766318843195154e+18\n",
      "12  Cost :  2.182747018803873e+19\n",
      "13  Cost :  3.4608994622061085e+20\n",
      "14  Cost :  5.487500376503676e+21\n",
      "15  Cost :  8.700819168821818e+22\n",
      "16  Cost :  1.379576291833834e+24\n",
      "17  Cost :  2.1874155847416707e+25\n",
      "18  Cost :  3.468301803019868e+26\n",
      "19  Cost :  5.499237310340126e+27\n",
      "20  Cost :  8.719428905842446e+28\n",
      "21  Cost :  1.3825269969907606e+30\n",
      "22  Cost :  2.1920941360363326e+31\n",
      "23  Cost :  3.475719976321725e+32\n",
      "24  Cost :  5.510999347703959e+33\n",
      "25  Cost :  8.738078446277617e+34\n",
      "26  Cost :  1.3854840132600045e+36\n",
      "27  Cost :  2.1967826940450233e+37\n",
      "28  Cost :  3.4831540159749734e+38\n",
      "29  Cost :  5.52278654228779e+39\n",
      "30  Cost :  8.75676787526076e+40\n",
      "31  Cost :  1.388447354140072e+42\n",
      "32  Cost :  2.2014812801705812e+43\n",
      "33  Cost :  3.4906039559153263e+44\n",
      "34  Cost :  5.5345989478991284e+45\n",
      "35  Cost :  8.775497278107483e+46\n",
      "36  Cost :  1.3914170331583583e+48\n",
      "37  Cost :  2.2061899158616484e+49\n",
      "38  Cost :  3.4980698301511172e+50\n",
      "39  Cost :  5.546436618460565e+51\n",
      "40  Cost :  8.79426674031584e+52\n",
      "41  Cost :  1.3943930638711812e+54\n",
      "42  Cost :  2.2109086226127245e+55\n",
      "43  Cost :  3.505551672763398e+56\n",
      "44  Cost :  5.5582996080100034e+57\n",
      "45  Cost :  8.813076347566762e+58\n",
      "46  Cost :  1.3973754598638551e+60\n",
      "47  Cost :  2.2156374219642812e+61\n",
      "48  Cost :  3.5130495179060973e+62\n",
      "49  Cost :  5.570187970700922e+63\n",
      "50  Cost :  8.831926185724389e+64\n",
      "51  Cost :  1.4003642347507475e+66\n",
      "52  Cost :  2.220376335502857e+67\n",
      "53  Cost :  3.520563399806198e+68\n",
      "54  Cost :  5.582101760802627e+69\n",
      "55  Cost :  8.850816340836554e+70\n",
      "56  Cost :  1.4033594021753494e+72\n",
      "57  Cost :  2.2251253848611768e+73\n",
      "58  Cost :  3.528093352763921e+74\n",
      "59  Cost :  5.5940410327005185e+75\n",
      "60  Cost :  8.869746899135166e+76\n",
      "61  Cost :  1.4063609758103392e+78\n",
      "62  Cost :  2.229884591718233e+79\n",
      "63  Cost :  3.535639411152832e+80\n",
      "64  Cost :  5.606005840896333e+81\n",
      "65  Cost :  8.888717947036524e+82\n",
      "66  Cost :  1.409368969357628e+84\n",
      "67  Cost :  2.2346539777993734e+85\n",
      "68  Cost :  3.543201609420006e+86\n",
      "69  Cost :  5.617996240008322e+87\n",
      "70  Cost :  8.907729571141727e+88\n",
      "71  Cost :  1.4123833965484368e+90\n",
      "72  Cost :  2.2394335648764164e+91\n",
      "73  Cost :  3.550779982086197e+92\n",
      "74  Cost :  5.6300122847715785e+93\n",
      "75  Cost :  8.926781858237207e+94\n",
      "76  Cost :  1.4154042711433614e+96\n",
      "77  Cost :  2.2442233747677586e+97\n",
      "78  Cost :  3.558374563746003e+98\n",
      "79  Cost :  5.642054030038283e+99\n",
      "80  Cost :  8.945874895294889e+100\n",
      "81  Cost :  1.4184316069324175e+102\n",
      "82  Cost :  2.2490234293384474e+103\n",
      "83  Cost :  3.5659853890680116e+104\n",
      "84  Cost :  5.654121530777932e+105\n",
      "85  Cost :  8.965008769472812e+106\n",
      "86  Cost :  1.4214654177351258e+108\n",
      "87  Cost :  2.253833750500301e+109\n",
      "88  Cost :  3.5736124927949596e+110\n",
      "89  Cost :  5.666214842077586e+111\n",
      "90  Cost :  8.984183568115387e+112\n",
      "91  Cost :  1.4245057174005607e+114\n",
      "92  Cost :  2.258654360212007e+115\n",
      "93  Cost :  3.581255909743888e+116\n",
      "94  Cost :  5.678334019142117e+117\n",
      "95  Cost :  9.003399378753856e+118\n",
      "96  Cost :  1.427552519807422e+120\n",
      "97  Cost :  2.2634852804792264e+121\n",
      "98  Cost :  3.5889156748063244e+122\n",
      "99  Cost :  5.690479117294509e+123\n",
      "-1.5114400866942285e+60 -2.9706444318545603e+58\n"
     ]
    }
   ],
   "source": [
    "run()"
   ]
  },
  {
   "cell_type": "code",
   "execution_count": null,
   "id": "ffc36af1",
   "metadata": {},
   "outputs": [],
   "source": []
  },
  {
   "cell_type": "markdown",
   "id": "7d93facd",
   "metadata": {},
   "source": [
    "# Genric Gradient Descent (for m*n input)"
   ]
  },
  {
   "cell_type": "code",
   "execution_count": null,
   "id": "7f661469",
   "metadata": {},
   "outputs": [],
   "source": [
    "def step_gradient(points,learning_rate,m,c):\n",
    " \n",
    "    \n",
    "    M = len(points)\n",
    "    N = points.shape[1]\n",
    "    \n",
    "       \n",
    "    m_slope = [0]*N\n",
    "    c_slope = [0]*N\n",
    "    \n",
    "    for i in range(M):\n",
    "        y = points[i,N]\n",
    "        \n",
    "        d = 0\n",
    "        \n",
    "        for j in range(N):\n",
    "            \n",
    "            d += m_slope[j]*points[i,j]\n",
    "            \n",
    "            \n",
    "              m_slope[j] = (-2/m)*(y-d)*\n",
    "            \n",
    "            \n",
    "            \n",
    "         \n",
    "            "
   ]
  },
  {
   "cell_type": "code",
   "execution_count": 44,
   "id": "1c5605b0",
   "metadata": {},
   "outputs": [],
   "source": [
    "def gd(points,learning_rate,num_iterations):\n",
    "    \n",
    "    N = points.shape[1]\n",
    "    m=[0]*N\n",
    "    c = [0]*N\n",
    "    \n",
    "    for i in range(num_iterations):\n",
    "        m,c = step_gradient(points,learning_rate,m,c)\n",
    "        print(i,\" Cost : \",cost(points,m,c))\n",
    "        \n",
    "    return m,c"
   ]
  },
  {
   "cell_type": "code",
   "execution_count": 39,
   "id": "96951d11",
   "metadata": {},
   "outputs": [],
   "source": [
    "def run():\n",
    "    data = np.loadtxt(\"data.csv\",delimiter=\",\")\n",
    "    learning_rate = 0.0001\n",
    "    num_iterations = 100\n",
    "    m,c = gd(data,learning_rate,num_iterations)\n",
    "    print(m,c)"
   ]
  },
  {
   "cell_type": "code",
   "execution_count": 45,
   "id": "6ae7f476",
   "metadata": {},
   "outputs": [
    {
     "name": "stdout",
     "output_type": "stream",
     "text": [
      "(100, 2)\n"
     ]
    },
    {
     "ename": "TypeError",
     "evalue": "cannot unpack non-iterable NoneType object",
     "output_type": "error",
     "traceback": [
      "\u001b[0;31m---------------------------------------------------------------------------\u001b[0m",
      "\u001b[0;31mTypeError\u001b[0m                                 Traceback (most recent call last)",
      "Cell \u001b[0;32mIn[45], line 1\u001b[0m\n\u001b[0;32m----> 1\u001b[0m run()\n",
      "Cell \u001b[0;32mIn[39], line 5\u001b[0m, in \u001b[0;36mrun\u001b[0;34m()\u001b[0m\n\u001b[1;32m      3\u001b[0m learning_rate \u001b[38;5;241m=\u001b[39m \u001b[38;5;241m0.0001\u001b[39m\n\u001b[1;32m      4\u001b[0m num_iterations \u001b[38;5;241m=\u001b[39m \u001b[38;5;241m100\u001b[39m\n\u001b[0;32m----> 5\u001b[0m m,c \u001b[38;5;241m=\u001b[39m gd(data,learning_rate,num_iterations)\n\u001b[1;32m      6\u001b[0m \u001b[38;5;28mprint\u001b[39m(m,c)\n",
      "\u001b[0;31mTypeError\u001b[0m: cannot unpack non-iterable NoneType object"
     ]
    }
   ],
   "source": [
    "run()"
   ]
  },
  {
   "cell_type": "code",
   "execution_count": null,
   "id": "b8fe46d8",
   "metadata": {},
   "outputs": [],
   "source": []
  },
  {
   "cell_type": "code",
   "execution_count": 36,
   "id": "a50673c6",
   "metadata": {},
   "outputs": [],
   "source": [
    "m = [0]*100"
   ]
  },
  {
   "cell_type": "code",
   "execution_count": 38,
   "id": "8bf1bddb",
   "metadata": {},
   "outputs": [
    {
     "data": {
      "text/plain": [
       "0"
      ]
     },
     "execution_count": 38,
     "metadata": {},
     "output_type": "execute_result"
    }
   ],
   "source": [
    "m[50]"
   ]
  },
  {
   "cell_type": "code",
   "execution_count": null,
   "id": "a996a351",
   "metadata": {},
   "outputs": [],
   "source": []
  }
 ],
 "metadata": {
  "kernelspec": {
   "display_name": "Python 3 (ipykernel)",
   "language": "python",
   "name": "python3"
  },
  "language_info": {
   "codemirror_mode": {
    "name": "ipython",
    "version": 3
   },
   "file_extension": ".py",
   "mimetype": "text/x-python",
   "name": "python",
   "nbconvert_exporter": "python",
   "pygments_lexer": "ipython3",
   "version": "3.11.4"
  }
 },
 "nbformat": 4,
 "nbformat_minor": 5
}
