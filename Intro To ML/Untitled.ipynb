{
 "cells": [
  {
   "cell_type": "code",
   "execution_count": 4,
   "id": "cc9916c2",
   "metadata": {},
   "outputs": [
    {
     "name": "stdout",
     "output_type": "stream",
     "text": [
      "[21.21635929 20.2917659  23.3071922  26.77814827 21.20598653 20.40757083\n",
      " 31.79661213 23.17222305 17.30062804 29.34419493 29.3933298  14.58907857\n",
      " 21.05039889 15.67631564 19.72346154 23.42673926 22.18309159 15.44171107\n",
      " 27.29492955 26.18847756 23.01119391 24.82619915 21.16734325 21.44270298\n",
      " 16.8311881  20.46737357 23.29937173 15.98994481 28.28951641 26.05708471] [21.83671023 20.48272796 22.49837094 29.1252651  22.16956598 20.34778156\n",
      " 29.90352055 24.2717891  15.27468173 30.1428941  29.76839551 13.21294058\n",
      " 19.66688184 18.14746862 21.43720221 22.83409445 23.13500589 15.3398007\n",
      " 27.45988156 25.95425402 24.25792738 23.93401332 19.91786208 20.99320166\n",
      " 15.71568747 19.86229256 22.86977015 19.29951239 26.87890553 26.00040328]\n",
      "[29.67863744 19.53677007 19.67409397 31.80670649 29.39756688 24.17357106\n",
      " 19.13999943 25.57508399 15.72564969 23.18528033 30.67480326 27.47341504\n",
      " 17.27421781 27.41866055 24.82982394 31.49742937 21.13942912 23.71958332\n",
      " 23.05917995 23.55672887 21.6233689  23.38454579 24.98962965 27.09441098\n",
      " 28.71821022 20.4706756  17.16358348 23.1141609  23.48881057 10.\n",
      " 22.96577297 25.19609748 20.89807976 26.89706687 25.34563185 34.11402465\n",
      " 24.35585092 17.62748039 20.45016379 19.2533754  19.36733689 27.38701207\n",
      " 22.93765296 27.54462659 29.51559288 18.87834992 21.58264283 15.61895639\n",
      " 17.80270554 25.12965002 21.72625199 21.70120173 35.         30.39261331\n",
      " 24.6959341  22.84971109 22.3130506  23.95201001 28.88208128 31.72256556\n",
      " 25.28695402 21.26177779 15.83796845 21.59562606 23.20474499 20.71572205\n",
      " 16.69336865 25.34189228 24.18110919 17.87326587] [30.01744104 20.9477264  21.352021   32.1439592  29.20781407 25.96458593\n",
      " 20.85976998 25.58167262 16.7966161  21.5178398  29.04080971 28.71560296\n",
      " 17.28191913 26.91842766 21.86319328 28.85898267 20.54315353 25.77479352\n",
      " 22.67839028 24.80213796 21.02171308 25.12464539 24.84722879 27.68447608\n",
      " 29.59814285 19.90060811 18.9647657  25.0371349  22.15470011 13.73232586\n",
      " 20.43036177 25.35798537 18.85756581 25.2176286  27.81931358 32.64683478\n",
      " 24.4254554  16.01295412 17.64331282 20.98632148 21.52569516 26.19847422\n",
      " 24.076435   27.02089296 28.51827748 17.97728637 22.72395775 15.95915579\n",
      " 19.75310721 26.10360999 23.31083362 22.41326114 35.17809909 30.08682003\n",
      " 25.92882217 20.8406782  21.81962567 22.78517619 28.55689878 31.05907853\n",
      " 23.82600753 19.92634633 14.55291815 23.00345561 23.26280919 21.96512804\n",
      " 16.9081789  23.33674736 22.19082393 17.54101401]\n",
      "[120.4842359  244.3583428  238.8364896   91.44026398 131.5421161\n",
      " 175.8381062  245.559651   181.0679338  301.0541818  236.5717375\n",
      " 133.8230607  138.2647325  294.4259159  162.8105416  231.8549017\n",
      " 136.3064532  249.8839965  178.4302897  220.7209461  191.7148134\n",
      " 243.3478332  187.3100089  191.0989631  152.3478571  126.2110081\n",
      " 258.6598779  271.4416078  188.5052266  227.8735033  342.906239\n",
      " 251.4245057  184.1230528  272.9057433  186.0400447  150.5062473\n",
      "  84.57199234 196.8595414  311.7574323  289.4900032  243.8312114\n",
      " 236.464449   172.6436613  201.62646    161.4110712  140.9598026\n",
      " 284.9285944  220.0985859  312.4922095  260.6744443  173.9393164\n",
      " 212.0830389  224.3420783   50.         119.5366581  176.3265674\n",
      " 245.8204064  232.4499479  219.2624649  140.4323131  106.2575575\n",
      " 205.0467968  258.3083455  331.6985946  216.2812058  212.7389563\n",
      " 230.4626774  299.5304577  211.7291092  227.3801243  290.8871997 ] [29.67863744 19.53677007 19.67409397 31.80670649 29.39756688 24.17357106\n",
      " 19.13999943 25.57508399 15.72564969 23.18528033 30.67480326 27.47341504\n",
      " 17.27421781 27.41866055 24.82982394 31.49742937 21.13942912 23.71958332\n",
      " 23.05917995 23.55672887 21.6233689  23.38454579 24.98962965 27.09441098\n",
      " 28.71821022 20.4706756  17.16358348 23.1141609  23.48881057 10.\n",
      " 22.96577297 25.19609748 20.89807976 26.89706687 25.34563185 34.11402465\n",
      " 24.35585092 17.62748039 20.45016379 19.2533754  19.36733689 27.38701207\n",
      " 22.93765296 27.54462659 29.51559288 18.87834992 21.58264283 15.61895639\n",
      " 17.80270554 25.12965002 21.72625199 21.70120173 35.         30.39261331\n",
      " 24.6959341  22.84971109 22.3130506  23.95201001 28.88208128 31.72256556\n",
      " 25.28695402 21.26177779 15.83796845 21.59562606 23.20474499 20.71572205\n",
      " 16.69336865 25.34189228 24.18110919 17.87326587] -0.07321719503184701 38.83895884102237\n",
      "0.91\n",
      "0.91\n",
      "148.1\n"
     ]
    }
   ],
   "source": [
    "## Open and read data file as specified in the question\n",
    "## Print the required output in given format\n",
    "import numpy as np\n",
    "from sklearn.model_selection import train_test_split\n",
    "\n",
    "data = np.loadtxt('FuelEconomy.csv', delimiter=',')\n",
    "X = data[:, 0]\n",
    "y = data[:, 1]\n",
    "\n",
    "X_train, X_test, Y_train, Y_test = train_test_split(X, y, test_size = 0.3, random_state=42)\n",
    "\n",
    "###########################\n",
    "##### Start from here #####\n",
    "###########################\n",
    "\n",
    "def fit(x_train, y_train):\n",
    "    ## Write code for fit function\n",
    "    \n",
    "    m = (np.mean(x_train * y_train) -np.mean(x_train)*np.mean(y_train))/(np.mean(x_train*x_train)-np.mean(x_train)*np.mean(x_train))\n",
    "    \n",
    "    c = np.mean(y_train)-m*np.mean(x_train)\n",
    "    \n",
    "    return (m,c)\n",
    "    \n",
    "\n",
    "\n",
    "def predict(x, m, c):\n",
    "    ## Write code for predict function\n",
    "    \n",
    "    y = m*x+c\n",
    "    return y\n",
    "    \n",
    "   \n",
    "\n",
    "def score(y_truth, y_pred):\n",
    "    ## Write code for score function\n",
    "    mean = np.mean(y_truth)\n",
    "    u = np.sum(pow(y_truth - y_pred,2))\n",
    "    v = np.sum(pow(y_truth -mean,2))\n",
    "    \n",
    "    return (1-u/v)\n",
    "\n",
    "def cost(x, y, m, c):\n",
    "    ## Write code for cost function\n",
    "    \n",
    "    return np.sum(pow((y-(m*x+c)),2))\n",
    "\n",
    "\n",
    "###########################\n",
    "###########################\n",
    "\n",
    "m, c = fit(X_train, Y_train)\n",
    "\n",
    "y_test_pred = predict(X_test, m, c)\n",
    "y_train_pred = predict(X_train, m, c)\n",
    "\n",
    "\n",
    "\n",
    "print(round(score(Y_test, y_test_pred), 2))\n",
    "print(round(score(Y_train, y_train_pred), 2))\n",
    "print(round(cost(X_train,Y_train, m, c ), 2))"
   ]
  },
  {
   "cell_type": "code",
   "execution_count": 22,
   "id": "01b9507f",
   "metadata": {},
   "outputs": [
    {
     "data": {
      "text/plain": [
       "array([3, 4])"
      ]
     },
     "execution_count": 22,
     "metadata": {},
     "output_type": "execute_result"
    }
   ],
   "source": [
    "x = np.arange(3,5)\n",
    "x"
   ]
  },
  {
   "cell_type": "code",
   "execution_count": 25,
   "id": "41b21893",
   "metadata": {},
   "outputs": [
    {
     "data": {
      "text/plain": [
       "23"
      ]
     },
     "execution_count": 25,
     "metadata": {},
     "output_type": "execute_result"
    }
   ],
   "source": [
    "np.sum(pow(x,2)-np.arange(1,2))\n"
   ]
  },
  {
   "cell_type": "code",
   "execution_count": null,
   "id": "9b130033",
   "metadata": {},
   "outputs": [],
   "source": []
  },
  {
   "cell_type": "code",
   "execution_count": 111,
   "id": "894b9929",
   "metadata": {},
   "outputs": [],
   "source": [
    "import numpy as np"
   ]
  },
  {
   "cell_type": "code",
   "execution_count": 112,
   "id": "28f69b26",
   "metadata": {},
   "outputs": [],
   "source": [
    "data  = np.loadtxt(\"data.csv\",delimiter=\",\")"
   ]
  },
  {
   "cell_type": "code",
   "execution_count": 113,
   "id": "e79b33e3",
   "metadata": {},
   "outputs": [],
   "source": [
    "x = data[:,0]\n",
    "y = data[:,1]\n",
    "\n",
    "x2 = x.reshape(-1,1)"
   ]
  },
  {
   "cell_type": "code",
   "execution_count": 114,
   "id": "aa2ed367",
   "metadata": {},
   "outputs": [
    {
     "data": {
      "text/plain": [
       "(100, 1)"
      ]
     },
     "execution_count": 114,
     "metadata": {},
     "output_type": "execute_result"
    }
   ],
   "source": [
    "x2.shape"
   ]
  },
  {
   "cell_type": "code",
   "execution_count": 120,
   "id": "65a0d281",
   "metadata": {},
   "outputs": [
    {
     "data": {
      "text/plain": [
       "(70,)"
      ]
     },
     "execution_count": 120,
     "metadata": {},
     "output_type": "execute_result"
    }
   ],
   "source": [
    "from sklearn import model_selection\n",
    "X_train,X_test,Y_train,Y_test = model_selection.train_test_split(x,y,test_size=0.3)\n",
    "X_train.shape"
   ]
  },
  {
   "cell_type": "code",
   "execution_count": 121,
   "id": "c7ed20c1",
   "metadata": {},
   "outputs": [],
   "source": [
    "def fit(x_train,y_train):\n",
    "    num = (x_train*y_train).mean() - x_train.mean() * y_train.mean()\n",
    "    denom = (x_train**2).mean() - x_train.mean()**2\n",
    "    \n",
    "    m = num/denom\n",
    "    \n",
    "    c = y_train.mean()-m*x_train.mean()\n",
    "    \n",
    "    return m,c"
   ]
  },
  {
   "cell_type": "code",
   "execution_count": 107,
   "id": "9125e74a",
   "metadata": {},
   "outputs": [],
   "source": [
    "def predict(x,m,c):\n",
    "    return m*x+c"
   ]
  },
  {
   "cell_type": "code",
   "execution_count": 108,
   "id": "7395c985",
   "metadata": {},
   "outputs": [],
   "source": [
    "def score(y_truth,y_pred):\n",
    "    u = ((y_truth-y_pred)**2).sum()\n",
    "    v = ((y_truth-y_truth.mean())**2).sum()\n",
    "    return 1-u/v"
   ]
  },
  {
   "cell_type": "code",
   "execution_count": 109,
   "id": "7cceb544",
   "metadata": {},
   "outputs": [],
   "source": [
    "def cost(x,y,m,c):\n",
    "    return ((y - m*x -c)**2).mean()"
   ]
  },
  {
   "cell_type": "code",
   "execution_count": null,
   "id": "cdd577ad",
   "metadata": {},
   "outputs": [],
   "source": []
  },
  {
   "cell_type": "code",
   "execution_count": null,
   "id": "82e0fedf",
   "metadata": {},
   "outputs": [],
   "source": []
  },
  {
   "cell_type": "code",
   "execution_count": 122,
   "id": "a5a7bb6f",
   "metadata": {},
   "outputs": [
    {
     "name": "stdout",
     "output_type": "stream",
     "text": [
      "Test Score :  -1.121352177777001\n",
      "Train score :  0.5842612433040641\n",
      "M,C 1.345336662029217 7.746536977232211\n",
      "Cost on training data :  109.76253900828078\n"
     ]
    }
   ],
   "source": [
    "m,c = fit(X_train,Y_train)\n",
    "\n",
    "#test data\n",
    "y_pred = predict(X_test,m,c)\n",
    "print(\"Test Score : \", score( Y_test,y_test_pred))\n",
    "#train data\n",
    "y_train_pred = predict(X_train,m,c)\n",
    "print(\"Train score : \", score( Y_train,y_train_pred))\n",
    "\n",
    "print(\"M,C\",m,c)\n",
    "\n",
    "print(\"Cost on training data : \",cost(X_train,Y_train,m,c))\n"
   ]
  },
  {
   "cell_type": "code",
   "execution_count": null,
   "id": "a75ca597",
   "metadata": {},
   "outputs": [],
   "source": []
  },
  {
   "cell_type": "code",
   "execution_count": 101,
   "id": "ce67565d",
   "metadata": {},
   "outputs": [],
   "source": [
    "# using inbuilt Linear regression"
   ]
  },
  {
   "cell_type": "code",
   "execution_count": 118,
   "id": "ef6968cd",
   "metadata": {},
   "outputs": [
    {
     "data": {
      "text/html": [
       "<style>#sk-container-id-1 {color: black;}#sk-container-id-1 pre{padding: 0;}#sk-container-id-1 div.sk-toggleable {background-color: white;}#sk-container-id-1 label.sk-toggleable__label {cursor: pointer;display: block;width: 100%;margin-bottom: 0;padding: 0.3em;box-sizing: border-box;text-align: center;}#sk-container-id-1 label.sk-toggleable__label-arrow:before {content: \"▸\";float: left;margin-right: 0.25em;color: #696969;}#sk-container-id-1 label.sk-toggleable__label-arrow:hover:before {color: black;}#sk-container-id-1 div.sk-estimator:hover label.sk-toggleable__label-arrow:before {color: black;}#sk-container-id-1 div.sk-toggleable__content {max-height: 0;max-width: 0;overflow: hidden;text-align: left;background-color: #f0f8ff;}#sk-container-id-1 div.sk-toggleable__content pre {margin: 0.2em;color: black;border-radius: 0.25em;background-color: #f0f8ff;}#sk-container-id-1 input.sk-toggleable__control:checked~div.sk-toggleable__content {max-height: 200px;max-width: 100%;overflow: auto;}#sk-container-id-1 input.sk-toggleable__control:checked~label.sk-toggleable__label-arrow:before {content: \"▾\";}#sk-container-id-1 div.sk-estimator input.sk-toggleable__control:checked~label.sk-toggleable__label {background-color: #d4ebff;}#sk-container-id-1 div.sk-label input.sk-toggleable__control:checked~label.sk-toggleable__label {background-color: #d4ebff;}#sk-container-id-1 input.sk-hidden--visually {border: 0;clip: rect(1px 1px 1px 1px);clip: rect(1px, 1px, 1px, 1px);height: 1px;margin: -1px;overflow: hidden;padding: 0;position: absolute;width: 1px;}#sk-container-id-1 div.sk-estimator {font-family: monospace;background-color: #f0f8ff;border: 1px dotted black;border-radius: 0.25em;box-sizing: border-box;margin-bottom: 0.5em;}#sk-container-id-1 div.sk-estimator:hover {background-color: #d4ebff;}#sk-container-id-1 div.sk-parallel-item::after {content: \"\";width: 100%;border-bottom: 1px solid gray;flex-grow: 1;}#sk-container-id-1 div.sk-label:hover label.sk-toggleable__label {background-color: #d4ebff;}#sk-container-id-1 div.sk-serial::before {content: \"\";position: absolute;border-left: 1px solid gray;box-sizing: border-box;top: 0;bottom: 0;left: 50%;z-index: 0;}#sk-container-id-1 div.sk-serial {display: flex;flex-direction: column;align-items: center;background-color: white;padding-right: 0.2em;padding-left: 0.2em;position: relative;}#sk-container-id-1 div.sk-item {position: relative;z-index: 1;}#sk-container-id-1 div.sk-parallel {display: flex;align-items: stretch;justify-content: center;background-color: white;position: relative;}#sk-container-id-1 div.sk-item::before, #sk-container-id-1 div.sk-parallel-item::before {content: \"\";position: absolute;border-left: 1px solid gray;box-sizing: border-box;top: 0;bottom: 0;left: 50%;z-index: -1;}#sk-container-id-1 div.sk-parallel-item {display: flex;flex-direction: column;z-index: 1;position: relative;background-color: white;}#sk-container-id-1 div.sk-parallel-item:first-child::after {align-self: flex-end;width: 50%;}#sk-container-id-1 div.sk-parallel-item:last-child::after {align-self: flex-start;width: 50%;}#sk-container-id-1 div.sk-parallel-item:only-child::after {width: 0;}#sk-container-id-1 div.sk-dashed-wrapped {border: 1px dashed gray;margin: 0 0.4em 0.5em 0.4em;box-sizing: border-box;padding-bottom: 0.4em;background-color: white;}#sk-container-id-1 div.sk-label label {font-family: monospace;font-weight: bold;display: inline-block;line-height: 1.2em;}#sk-container-id-1 div.sk-label-container {text-align: center;}#sk-container-id-1 div.sk-container {/* jupyter's `normalize.less` sets `[hidden] { display: none; }` but bootstrap.min.css set `[hidden] { display: none !important; }` so we also need the `!important` here to be able to override the default hidden behavior on the sphinx rendered scikit-learn.org. See: https://github.com/scikit-learn/scikit-learn/issues/21755 */display: inline-block !important;position: relative;}#sk-container-id-1 div.sk-text-repr-fallback {display: none;}</style><div id=\"sk-container-id-1\" class=\"sk-top-container\"><div class=\"sk-text-repr-fallback\"><pre>LinearRegression()</pre><b>In a Jupyter environment, please rerun this cell to show the HTML representation or trust the notebook. <br />On GitHub, the HTML representation is unable to render, please try loading this page with nbviewer.org.</b></div><div class=\"sk-container\" hidden><div class=\"sk-item\"><div class=\"sk-estimator sk-toggleable\"><input class=\"sk-toggleable__control sk-hidden--visually\" id=\"sk-estimator-id-1\" type=\"checkbox\" checked><label for=\"sk-estimator-id-1\" class=\"sk-toggleable__label sk-toggleable__label-arrow\">LinearRegression</label><div class=\"sk-toggleable__content\"><pre>LinearRegression()</pre></div></div></div></div></div>"
      ],
      "text/plain": [
       "LinearRegression()"
      ]
     },
     "execution_count": 118,
     "metadata": {},
     "output_type": "execute_result"
    }
   ],
   "source": [
    "from sklearn.linear_model import LinearRegression\n",
    "alg1 = LinearRegression()\n",
    "alg1.fit(X_train,Y_train)"
   ]
  },
  {
   "cell_type": "code",
   "execution_count": 119,
   "id": "903276ea",
   "metadata": {},
   "outputs": [
    {
     "name": "stdout",
     "output_type": "stream",
     "text": [
      "m :  [1.32146948]\n",
      "c :  7.291790244773566\n",
      "test score :  0.6591917263051152\n",
      "Train score :  0.5618753327749406\n"
     ]
    }
   ],
   "source": [
    "print(\"m : \", alg1.coef_)\n",
    "print(\"c : \", alg1.intercept_)\n",
    "print(\"test score : \", alg1.score(X_test,Y_test))\n",
    "print(\"Train score : \",alg1.score(X_train,Y_train))\n"
   ]
  },
  {
   "cell_type": "code",
   "execution_count": null,
   "id": "8f4bf194",
   "metadata": {},
   "outputs": [],
   "source": []
  },
  {
   "cell_type": "code",
   "execution_count": null,
   "id": "c495c019",
   "metadata": {},
   "outputs": [],
   "source": []
  },
  {
   "cell_type": "code",
   "execution_count": null,
   "id": "2cde069e",
   "metadata": {},
   "outputs": [],
   "source": []
  },
  {
   "cell_type": "code",
   "execution_count": null,
   "id": "37755f8a",
   "metadata": {},
   "outputs": [],
   "source": []
  },
  {
   "cell_type": "code",
   "execution_count": null,
   "id": "c9e32104",
   "metadata": {},
   "outputs": [],
   "source": []
  }
 ],
 "metadata": {
  "kernelspec": {
   "display_name": "Python 3 (ipykernel)",
   "language": "python",
   "name": "python3"
  },
  "language_info": {
   "codemirror_mode": {
    "name": "ipython",
    "version": 3
   },
   "file_extension": ".py",
   "mimetype": "text/x-python",
   "name": "python",
   "nbconvert_exporter": "python",
   "pygments_lexer": "ipython3",
   "version": "3.11.4"
  }
 },
 "nbformat": 4,
 "nbformat_minor": 5
}
