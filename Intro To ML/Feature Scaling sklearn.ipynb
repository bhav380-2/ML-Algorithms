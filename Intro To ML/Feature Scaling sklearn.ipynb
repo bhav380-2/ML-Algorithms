{
 "cells": [
  {
   "cell_type": "code",
   "execution_count": 16,
   "id": "003e9576",
   "metadata": {},
   "outputs": [],
   "source": [
    "import numpy as np\n",
    "from sklearn import preprocessing"
   ]
  },
  {
   "cell_type": "code",
   "execution_count": null,
   "id": "7102582d",
   "metadata": {},
   "outputs": [],
   "source": []
  },
  {
   "cell_type": "code",
   "execution_count": 4,
   "id": "48a7d1c5",
   "metadata": {},
   "outputs": [],
   "source": [
    "X = np.array([[1., -1., 2.],\n",
    "              [2., 0., 0.],\n",
    "              [0., 1., -1.]])"
   ]
  },
  {
   "cell_type": "code",
   "execution_count": 5,
   "id": "bf9d1e0e",
   "metadata": {},
   "outputs": [],
   "source": [
    "X_scaled = preprocessing.scale(X) # it will make mean 0 and variance 1"
   ]
  },
  {
   "cell_type": "code",
   "execution_count": null,
   "id": "22ffacd9",
   "metadata": {},
   "outputs": [],
   "source": []
  },
  {
   "cell_type": "code",
   "execution_count": 6,
   "id": "ae23824f",
   "metadata": {},
   "outputs": [
    {
     "data": {
      "text/plain": [
       "array([0., 0., 0.])"
      ]
     },
     "execution_count": 6,
     "metadata": {},
     "output_type": "execute_result"
    }
   ],
   "source": [
    "X_scaled.mean(axis = 0) # set mean to 0"
   ]
  },
  {
   "cell_type": "code",
   "execution_count": 7,
   "id": "63fae5b6",
   "metadata": {},
   "outputs": [
    {
     "data": {
      "text/plain": [
       "array([1., 1., 1.])"
      ]
     },
     "execution_count": 7,
     "metadata": {},
     "output_type": "execute_result"
    }
   ],
   "source": [
    "X_scaled.std(axis=0) #set sttandard deviation to 1"
   ]
  },
  {
   "cell_type": "code",
   "execution_count": 8,
   "id": "4862cb4c",
   "metadata": {},
   "outputs": [
    {
     "data": {
      "text/plain": [
       "array([[ 0.        , -1.22474487,  1.33630621],\n",
       "       [ 1.22474487,  0.        , -0.26726124],\n",
       "       [-1.22474487,  1.22474487, -1.06904497]])"
      ]
     },
     "execution_count": 8,
     "metadata": {},
     "output_type": "execute_result"
    }
   ],
   "source": [
    "y1_pred = pred(X_test,m,c)\n",
    "scaler = preprocessing.StandardScaler() # used to scale testing data\n",
    "scaler.fit(X)             # save parameters that were used to scale traingin data\n",
    "scaler.transform(X)       # used to transform data # ''trial''"
   ]
  },
  {
   "cell_type": "code",
   "execution_count": 9,
   "id": "fc59c364",
   "metadata": {},
   "outputs": [
    {
     "data": {
      "text/plain": [
       "array([[ 0.        ,  1.22474487, -0.26726124]])"
      ]
     },
     "execution_count": 9,
     "metadata": {},
     "output_type": "execute_result"
    }
   ],
   "source": [
    "X_test = [[1,1,0]]  # array of testing data\n",
    "scaler.transform(X_test) # scales testing data using parameters used while scaling training data"
   ]
  },
  {
   "cell_type": "code",
   "execution_count": null,
   "id": "7f3daccf",
   "metadata": {},
   "outputs": [],
   "source": []
  },
  {
   "cell_type": "code",
   "execution_count": 36,
   "id": "762f4963",
   "metadata": {},
   "outputs": [
    {
     "name": "stdout",
     "output_type": "stream",
     "text": [
      "0.0\n",
      "4.99808969331922\n"
     ]
    }
   ],
   "source": [
    "data = [[6,9],[1,4],[2,8],[2,1]]\n",
    "scaler = preprocessing.StandardScaler()\n",
    "scaler.fit(data)\n",
    "first = scaler.transform(data)\n",
    "\n",
    "second = scaler.transform([[2,13],[1,4],[10,7],[1,9]])\n",
    "print(first.sum())\n",
    "print(second.sum())"
   ]
  },
  {
   "cell_type": "code",
   "execution_count": null,
   "id": "c39f7ea4",
   "metadata": {},
   "outputs": [],
   "source": []
  }
 ],
 "metadata": {
  "kernelspec": {
   "display_name": "Python 3 (ipykernel)",
   "language": "python",
   "name": "python3"
  },
  "language_info": {
   "codemirror_mode": {
    "name": "ipython",
    "version": 3
   },
   "file_extension": ".py",
   "mimetype": "text/x-python",
   "name": "python",
   "nbconvert_exporter": "python",
   "pygments_lexer": "ipython3",
   "version": "3.11.4"
  }
 },
 "nbformat": 4,
 "nbformat_minor": 5
}
