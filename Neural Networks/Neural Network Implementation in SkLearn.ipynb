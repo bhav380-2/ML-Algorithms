{
 "cells": [
  {
   "cell_type": "code",
   "execution_count": 1,
   "id": "690a72cf",
   "metadata": {},
   "outputs": [],
   "source": [
    "from sklearn import datasets"
   ]
  },
  {
   "cell_type": "code",
   "execution_count": 2,
   "id": "4593d5e8",
   "metadata": {},
   "outputs": [],
   "source": [
    "from sklearn.model_selection import train_test_split"
   ]
  },
  {
   "cell_type": "code",
   "execution_count": 3,
   "id": "a2300d67",
   "metadata": {},
   "outputs": [],
   "source": [
    "iris = datasets.load_iris()"
   ]
  },
  {
   "cell_type": "code",
   "execution_count": 4,
   "id": "58d90d9e",
   "metadata": {},
   "outputs": [],
   "source": [
    "x=iris.data\n",
    "y=iris.target"
   ]
  },
  {
   "cell_type": "code",
   "execution_count": 5,
   "id": "dcaa667a",
   "metadata": {},
   "outputs": [],
   "source": [
    "x_train,x_test,y_train,y_test = train_test_split(x,y)"
   ]
  },
  {
   "cell_type": "code",
   "execution_count": 6,
   "id": "a0ef3402",
   "metadata": {},
   "outputs": [],
   "source": [
    "from sklearn.neural_network import MLPClassifier"
   ]
  },
  {
   "cell_type": "code",
   "execution_count": 10,
   "id": "fa59125b",
   "metadata": {},
   "outputs": [
    {
     "data": {
      "text/html": [
       "<style>#sk-container-id-2 {color: black;}#sk-container-id-2 pre{padding: 0;}#sk-container-id-2 div.sk-toggleable {background-color: white;}#sk-container-id-2 label.sk-toggleable__label {cursor: pointer;display: block;width: 100%;margin-bottom: 0;padding: 0.3em;box-sizing: border-box;text-align: center;}#sk-container-id-2 label.sk-toggleable__label-arrow:before {content: \"▸\";float: left;margin-right: 0.25em;color: #696969;}#sk-container-id-2 label.sk-toggleable__label-arrow:hover:before {color: black;}#sk-container-id-2 div.sk-estimator:hover label.sk-toggleable__label-arrow:before {color: black;}#sk-container-id-2 div.sk-toggleable__content {max-height: 0;max-width: 0;overflow: hidden;text-align: left;background-color: #f0f8ff;}#sk-container-id-2 div.sk-toggleable__content pre {margin: 0.2em;color: black;border-radius: 0.25em;background-color: #f0f8ff;}#sk-container-id-2 input.sk-toggleable__control:checked~div.sk-toggleable__content {max-height: 200px;max-width: 100%;overflow: auto;}#sk-container-id-2 input.sk-toggleable__control:checked~label.sk-toggleable__label-arrow:before {content: \"▾\";}#sk-container-id-2 div.sk-estimator input.sk-toggleable__control:checked~label.sk-toggleable__label {background-color: #d4ebff;}#sk-container-id-2 div.sk-label input.sk-toggleable__control:checked~label.sk-toggleable__label {background-color: #d4ebff;}#sk-container-id-2 input.sk-hidden--visually {border: 0;clip: rect(1px 1px 1px 1px);clip: rect(1px, 1px, 1px, 1px);height: 1px;margin: -1px;overflow: hidden;padding: 0;position: absolute;width: 1px;}#sk-container-id-2 div.sk-estimator {font-family: monospace;background-color: #f0f8ff;border: 1px dotted black;border-radius: 0.25em;box-sizing: border-box;margin-bottom: 0.5em;}#sk-container-id-2 div.sk-estimator:hover {background-color: #d4ebff;}#sk-container-id-2 div.sk-parallel-item::after {content: \"\";width: 100%;border-bottom: 1px solid gray;flex-grow: 1;}#sk-container-id-2 div.sk-label:hover label.sk-toggleable__label {background-color: #d4ebff;}#sk-container-id-2 div.sk-serial::before {content: \"\";position: absolute;border-left: 1px solid gray;box-sizing: border-box;top: 0;bottom: 0;left: 50%;z-index: 0;}#sk-container-id-2 div.sk-serial {display: flex;flex-direction: column;align-items: center;background-color: white;padding-right: 0.2em;padding-left: 0.2em;position: relative;}#sk-container-id-2 div.sk-item {position: relative;z-index: 1;}#sk-container-id-2 div.sk-parallel {display: flex;align-items: stretch;justify-content: center;background-color: white;position: relative;}#sk-container-id-2 div.sk-item::before, #sk-container-id-2 div.sk-parallel-item::before {content: \"\";position: absolute;border-left: 1px solid gray;box-sizing: border-box;top: 0;bottom: 0;left: 50%;z-index: -1;}#sk-container-id-2 div.sk-parallel-item {display: flex;flex-direction: column;z-index: 1;position: relative;background-color: white;}#sk-container-id-2 div.sk-parallel-item:first-child::after {align-self: flex-end;width: 50%;}#sk-container-id-2 div.sk-parallel-item:last-child::after {align-self: flex-start;width: 50%;}#sk-container-id-2 div.sk-parallel-item:only-child::after {width: 0;}#sk-container-id-2 div.sk-dashed-wrapped {border: 1px dashed gray;margin: 0 0.4em 0.5em 0.4em;box-sizing: border-box;padding-bottom: 0.4em;background-color: white;}#sk-container-id-2 div.sk-label label {font-family: monospace;font-weight: bold;display: inline-block;line-height: 1.2em;}#sk-container-id-2 div.sk-label-container {text-align: center;}#sk-container-id-2 div.sk-container {/* jupyter's `normalize.less` sets `[hidden] { display: none; }` but bootstrap.min.css set `[hidden] { display: none !important; }` so we also need the `!important` here to be able to override the default hidden behavior on the sphinx rendered scikit-learn.org. See: https://github.com/scikit-learn/scikit-learn/issues/21755 */display: inline-block !important;position: relative;}#sk-container-id-2 div.sk-text-repr-fallback {display: none;}</style><div id=\"sk-container-id-2\" class=\"sk-top-container\"><div class=\"sk-text-repr-fallback\"><pre>MLPClassifier(hidden_layer_sizes=(20,), max_iter=3000)</pre><b>In a Jupyter environment, please rerun this cell to show the HTML representation or trust the notebook. <br />On GitHub, the HTML representation is unable to render, please try loading this page with nbviewer.org.</b></div><div class=\"sk-container\" hidden><div class=\"sk-item\"><div class=\"sk-estimator sk-toggleable\"><input class=\"sk-toggleable__control sk-hidden--visually\" id=\"sk-estimator-id-2\" type=\"checkbox\" checked><label for=\"sk-estimator-id-2\" class=\"sk-toggleable__label sk-toggleable__label-arrow\">MLPClassifier</label><div class=\"sk-toggleable__content\"><pre>MLPClassifier(hidden_layer_sizes=(20,), max_iter=3000)</pre></div></div></div></div></div>"
      ],
      "text/plain": [
       "MLPClassifier(hidden_layer_sizes=(20,), max_iter=3000)"
      ]
     },
     "execution_count": 10,
     "metadata": {},
     "output_type": "execute_result"
    }
   ],
   "source": [
    "clf = MLPClassifier(hidden_layer_sizes=(20,),max_iter=3000)\n",
    "clf.fit(x_train,y_train)\n"
   ]
  },
  {
   "cell_type": "code",
   "execution_count": null,
   "id": "73303922",
   "metadata": {},
   "outputs": [],
   "source": []
  },
  {
   "cell_type": "code",
   "execution_count": 11,
   "id": "febe3879",
   "metadata": {},
   "outputs": [
    {
     "data": {
      "text/plain": [
       "0.9473684210526315"
      ]
     },
     "execution_count": 11,
     "metadata": {},
     "output_type": "execute_result"
    }
   ],
   "source": [
    "clf.score(x_test,y_test)"
   ]
  },
  {
   "cell_type": "code",
   "execution_count": 12,
   "id": "08e8ac05",
   "metadata": {},
   "outputs": [
    {
     "data": {
      "text/plain": [
       "[array([[ 3.49192251e-01,  1.99297027e-01,  2.71725741e-01,\n",
       "          8.41419207e-02,  1.36305585e-03,  4.08487764e-01,\n",
       "         -1.28684574e-01,  8.43927750e-01,  3.79306146e-07,\n",
       "         -2.00683557e-01,  6.79607620e-01, -3.51988239e-01,\n",
       "          3.41578777e-01,  1.28150165e-01, -1.25273959e-03,\n",
       "         -1.73731265e-03, -1.13098767e-06, -1.22355045e-05,\n",
       "          7.13588367e-01, -5.11906477e-01],\n",
       "        [ 4.18805745e-01,  1.15800058e-01,  1.54832395e-01,\n",
       "          1.59650195e-02, -2.61592555e-01,  6.14998352e-02,\n",
       "         -5.56466557e-01,  2.20744207e-01, -2.66873136e-02,\n",
       "         -5.23798381e-01,  5.73484739e-01, -1.49593780e-01,\n",
       "         -6.73968077e-01, -4.22665325e-01, -1.33463171e-03,\n",
       "          2.89978999e-07, -1.58763401e-04, -5.46874547e-03,\n",
       "          1.74862428e-01,  4.45855053e-01],\n",
       "        [-3.75237386e-01,  2.12706688e-01, -3.20134306e-02,\n",
       "          4.24644360e-01,  8.00581271e-01,  3.73153871e-02,\n",
       "          5.70289979e-01, -3.19680624e-01, -4.24253171e-10,\n",
       "          4.54326630e-01, -7.83557041e-01,  3.57222501e-01,\n",
       "          4.44537694e-01,  5.63956662e-01, -2.20269767e-06,\n",
       "         -1.93416960e-19, -5.26455878e-18,  1.24044757e-03,\n",
       "         -5.00120820e-01,  2.02083614e-01],\n",
       "        [-6.26136157e-01, -1.72048070e-01,  1.66202843e-01,\n",
       "          2.44223269e-01,  4.66850412e-01, -5.92831663e-01,\n",
       "          7.94938148e-01, -6.71285393e-01,  2.13911563e-21,\n",
       "          8.74633423e-01, -8.45058993e-01,  2.22715683e-01,\n",
       "          8.22602298e-01,  4.52114733e-01, -1.37792169e-17,\n",
       "          1.80495372e-04,  2.45955455e-07, -2.25413213e-02,\n",
       "          5.34661414e-01, -1.49472403e-01]]),\n",
       " array([[ 6.42817303e-01,  8.75408226e-03, -7.19024680e-01],\n",
       "        [ 8.67683074e-02,  2.57622576e-01,  2.04717738e-01],\n",
       "        [-1.93084728e-01,  1.89604344e-01, -4.99559700e-02],\n",
       "        [-2.32726868e-01, -1.73927332e-01, -4.44935610e-02],\n",
       "        [-9.20083392e-01,  2.00102517e-01,  7.15900202e-01],\n",
       "        [ 6.75691595e-01,  7.60397582e-02, -2.72632589e-01],\n",
       "        [-2.22657248e-01, -8.00669574e-01,  7.94403031e-01],\n",
       "        [-9.12081200e-02, -2.47265989e-01, -1.06837589e+00],\n",
       "        [ 1.96536868e-06, -1.08984778e-03,  5.23703643e-23],\n",
       "        [-4.53143812e-01, -7.85713782e-01,  8.58093675e-01],\n",
       "        [ 9.00882304e-01,  7.25029942e-01, -9.11306939e-01],\n",
       "        [ 3.19034001e-01, -1.02965595e-01, -3.54084639e-01],\n",
       "        [-1.00557396e+00,  7.96863170e-02,  5.27187914e-01],\n",
       "        [-8.22483461e-01,  7.03132562e-02,  4.03244936e-01],\n",
       "        [ 5.78273539e-23,  1.83936514e-02,  7.59849029e-05],\n",
       "        [-1.64867649e-03, -2.66143889e-04,  5.39588066e-03],\n",
       "        [-5.26969481e-23, -2.04715355e-22, -2.90829485e-14],\n",
       "        [ 7.31765165e-04,  1.12772647e-21,  7.77687179e-23],\n",
       "        [ 4.31129406e-01,  5.64155432e-02,  7.22617310e-02],\n",
       "        [ 4.64344376e-02,  3.77762343e-01,  2.18753267e-01]])]"
      ]
     },
     "execution_count": 12,
     "metadata": {},
     "output_type": "execute_result"
    }
   ],
   "source": [
    "clf.coefs_"
   ]
  },
  {
   "cell_type": "code",
   "execution_count": 13,
   "id": "577b3590",
   "metadata": {},
   "outputs": [
    {
     "data": {
      "text/plain": [
       "2"
      ]
     },
     "execution_count": 13,
     "metadata": {},
     "output_type": "execute_result"
    }
   ],
   "source": [
    "len(clf.coefs_)"
   ]
  },
  {
   "cell_type": "code",
   "execution_count": 15,
   "id": "bb536768",
   "metadata": {},
   "outputs": [
    {
     "data": {
      "text/plain": [
       "((4, 20), (20, 3))"
      ]
     },
     "execution_count": 15,
     "metadata": {},
     "output_type": "execute_result"
    }
   ],
   "source": [
    "clf.coefs_[0].shape,clf.coefs_[1].shape"
   ]
  },
  {
   "cell_type": "code",
   "execution_count": 17,
   "id": "8a488c2d",
   "metadata": {},
   "outputs": [
    {
     "data": {
      "text/plain": [
       "((20,), (3,))"
      ]
     },
     "execution_count": 17,
     "metadata": {},
     "output_type": "execute_result"
    }
   ],
   "source": [
    "clf.intercepts_[0].shape,clf.intercepts_[1].shape"
   ]
  },
  {
   "cell_type": "code",
   "execution_count": null,
   "id": "858f9a36",
   "metadata": {},
   "outputs": [],
   "source": []
  },
  {
   "cell_type": "code",
   "execution_count": null,
   "id": "4ec3817b",
   "metadata": {},
   "outputs": [],
   "source": []
  },
  {
   "cell_type": "code",
   "execution_count": null,
   "id": "b70fb7e9",
   "metadata": {},
   "outputs": [],
   "source": []
  },
  {
   "cell_type": "code",
   "execution_count": null,
   "id": "63c007eb",
   "metadata": {},
   "outputs": [],
   "source": []
  },
  {
   "cell_type": "code",
   "execution_count": null,
   "id": "15cb8a9e",
   "metadata": {},
   "outputs": [],
   "source": [
    "C"
   ]
  }
 ],
 "metadata": {
  "kernelspec": {
   "display_name": "Python 3 (ipykernel)",
   "language": "python",
   "name": "python3"
  },
  "language_info": {
   "codemirror_mode": {
    "name": "ipython",
    "version": 3
   },
   "file_extension": ".py",
   "mimetype": "text/x-python",
   "name": "python",
   "nbconvert_exporter": "python",
   "pygments_lexer": "ipython3",
   "version": "3.11.4"
  }
 },
 "nbformat": 4,
 "nbformat_minor": 5
}
