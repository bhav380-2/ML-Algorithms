{
 "cells": [
  {
   "cell_type": "code",
   "execution_count": 3,
   "id": "58b6b163",
   "metadata": {},
   "outputs": [],
   "source": [
    "import numpy as np"
   ]
  },
  {
   "cell_type": "code",
   "execution_count": 119,
   "id": "a4f7250d",
   "metadata": {},
   "outputs": [
    {
     "data": {
      "text/plain": [
       "((4, 2), (4, 1))"
      ]
     },
     "execution_count": 119,
     "metadata": {},
     "output_type": "execute_result"
    }
   ],
   "source": [
    "X = np.array([[0,0],[0,1],[1,0],[1,1]])\n",
    "Y = np.array([[0,0,0,1]]).T\n",
    "X.shape,Y.shape"
   ]
  },
  {
   "cell_type": "code",
   "execution_count": null,
   "id": "75658a3b",
   "metadata": {},
   "outputs": [],
   "source": []
  },
  {
   "cell_type": "markdown",
   "id": "00971eb1",
   "metadata": {},
   "source": [
    "## Deriving derivative of sigmoid(z)\n",
    "\n",
    "<br>\n",
    "\n",
    "<div style=\"display:flex\">\n",
    "    <img src=\"https://github.com/bhav380-2/ML-Algorithms/blob/main/Neural%20Networks/images/1.png?raw=true\" style=\"height:445px; width:445px\">\n",
    "<img src=\"https://github.com/bhav380-2/ML-Algorithms/blob/main/Neural%20Networks/images/2.jpeg?raw=true\" style=\"height:445px; width:445px\">\n",
    "</div>\n"
   ]
  },
  {
   "cell_type": "code",
   "execution_count": 38,
   "id": "82cee6cf",
   "metadata": {},
   "outputs": [],
   "source": [
    "def sig(z):\n",
    "    return 1/(1+np.exp(-z))"
   ]
  },
  {
   "cell_type": "code",
   "execution_count": 39,
   "id": "64e88719",
   "metadata": {},
   "outputs": [],
   "source": [
    "def derivativeSig(z):\n",
    "    return sig(z)*(1-sig(z))"
   ]
  },
  {
   "cell_type": "markdown",
   "id": "2e13211b",
   "metadata": {},
   "source": [
    "# Initially choosing random values for weights and bias"
   ]
  },
  {
   "cell_type": "code",
   "execution_count": 111,
   "id": "b7c2a22d",
   "metadata": {
    "scrolled": true
   },
   "outputs": [
    {
     "data": {
      "text/plain": [
       "(array([[-0.72505558],\n",
       "        [-0.39473312]]),\n",
       " array([0.28071009]))"
      ]
     },
     "execution_count": 111,
     "metadata": {},
     "output_type": "execute_result"
    }
   ],
   "source": [
    "\n",
    "weights = 2*np.random.random((2,1))-1  #pass shape as argument \n",
    "bias = 2*np.random.random(1)-1\n",
    "lr = 0.1\n",
    "weights,bias"
   ]
  },
  {
   "cell_type": "markdown",
   "id": "956f7abf",
   "metadata": {},
   "source": [
    "# finding Best values of weights and bias"
   ]
  },
  {
   "cell_type": "markdown",
   "id": "c19f5f52",
   "metadata": {},
   "source": [
    "## Error Calculation\n",
    "<br>\n",
    "<div style=\"display:flex ; width:1850px;\">\n",
    "<img src=\"https://github.com/bhav380-2/ML-Algorithms/blob/main/Neural%20Networks/images/3.jpeg?raw=true\" style=\"height:430px;width:440px;\">\n",
    "<img src=\"https://github.com/bhav380-2/ML-Algorithms/blob/main/Neural%20Networks/images/4.jpeg?raw=true\" style=\"height:430px;width:430px;\">\n",
    "<img src=\"https://github.com/bhav380-2/ML-Algorithms/blob/main/Neural%20Networks/images/5.png?raw=true\" style=\"height:430px;width:430px;\">\n",
    "<img src=\"https://github.com/bhav380-2/ML-Algorithms/blob/main/Neural%20Networks/images/6.png?raw=true\" style=\"height:430px;width:430px;\">\n",
    "</div>\n"
   ]
  },
  {
   "cell_type": "markdown",
   "id": "2729901d",
   "metadata": {},
   "source": [
    "## Matrix first_two and Matrix changes in Below code represents\n",
    "<img src=\"https://github.com/bhav380-2/ML-Algorithms/blob/main/Neural%20Networks/images/7.png?raw=true\" style=\"height:430px;width:450px;\">\n"
   ]
  },
  {
   "cell_type": "code",
   "execution_count": 113,
   "id": "e9e84eb5",
   "metadata": {},
   "outputs": [
    {
     "data": {
      "text/plain": [
       "(array([[6.26867964],\n",
       "        [6.26867964]]),\n",
       " array([-9.49284861]),\n",
       " array([[7.53833604e-05],\n",
       "        [3.82662637e-02],\n",
       "        [3.82662637e-02],\n",
       "        [9.54544944e-01]]))"
      ]
     },
     "execution_count": 113,
     "metadata": {},
     "output_type": "execute_result"
    }
   ],
   "source": [
    "\n",
    "for iter in range(10000):\n",
    "    output0 = X\n",
    "    output = sig(np.dot(output0,weights)+bias)\n",
    "\n",
    "    first_term = output-Y  # output = Ypred\n",
    "    input_for_last_layer = np.dot(output0,weights)+bias\n",
    "    second_term = derivativeSig(input_for_last_layer)\n",
    "\n",
    "\n",
    "    first_two = first_term*second_term\n",
    "    first_two.shape\n",
    "\n",
    "\n",
    "    changes = np.array([[0.0],[0.0]])\n",
    "    for i in range(2):\n",
    "        for j in range(4):\n",
    "            changes[i][0] += first_two[j][0]*output0[j][i]\n",
    "\n",
    "\n",
    "\n",
    "    weights = weights - lr*changes\n",
    "\n",
    "    bias_change = 0.0\n",
    "    for j in range(4):\n",
    "            bias_change += first_two[j][0]*1\n",
    "\n",
    "    bias = bias-lr*bias_change\n",
    "\n",
    "\n"
   ]
  },
  {
   "cell_type": "markdown",
   "id": "d9978df3",
   "metadata": {},
   "source": [
    "# Using latest values of weights and bias for prediction"
   ]
  },
  {
   "cell_type": "code",
   "execution_count": 114,
   "id": "8569fdb9",
   "metadata": {},
   "outputs": [
    {
     "data": {
      "text/plain": [
       "(array([[6.26867964],\n",
       "        [6.26867964]]),\n",
       " array([-9.49284861]),\n",
       " array([[7.53833604e-05],\n",
       "        [3.82662637e-02],\n",
       "        [3.82662637e-02],\n",
       "        [9.54544944e-01]]))"
      ]
     },
     "execution_count": 114,
     "metadata": {},
     "output_type": "execute_result"
    }
   ],
   "source": [
    "output = sig(np.dot(X,weights)+bias)\n",
    "weights,bias,output"
   ]
  },
  {
   "cell_type": "code",
   "execution_count": null,
   "id": "a0eb380b",
   "metadata": {},
   "outputs": [],
   "source": []
  },
  {
   "cell_type": "markdown",
   "id": "5accc648",
   "metadata": {},
   "source": []
  },
  {
   "cell_type": "markdown",
   "id": "365bbf5b",
   "metadata": {},
   "source": []
  },
  {
   "cell_type": "code",
   "execution_count": null,
   "id": "11ec45e8",
   "metadata": {},
   "outputs": [],
   "source": []
  },
  {
   "cell_type": "code",
   "execution_count": null,
   "id": "b4e2216b",
   "metadata": {},
   "outputs": [],
   "source": []
  },
  {
   "cell_type": "code",
   "execution_count": null,
   "id": "84ac366a",
   "metadata": {},
   "outputs": [],
   "source": []
  }
 ],
 "metadata": {
  "kernelspec": {
   "display_name": "Python 3 (ipykernel)",
   "language": "python",
   "name": "python3"
  },
  "language_info": {
   "codemirror_mode": {
    "name": "ipython",
    "version": 3
   },
   "file_extension": ".py",
   "mimetype": "text/x-python",
   "name": "python",
   "nbconvert_exporter": "python",
   "pygments_lexer": "ipython3",
   "version": "3.11.4"
  }
 },
 "nbformat": 4,
 "nbformat_minor": 5
}
