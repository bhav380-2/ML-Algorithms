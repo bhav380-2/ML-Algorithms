{
 "cells": [
  {
   "cell_type": "code",
   "execution_count": 2,
   "id": "3d317c4c",
   "metadata": {},
   "outputs": [],
   "source": [
    "import numpy as np\n",
    "import matplotlib.pyplot as plt"
   ]
  },
  {
   "cell_type": "code",
   "execution_count": 3,
   "id": "c2d6a05a",
   "metadata": {},
   "outputs": [],
   "source": [
    "X = np.array([[1,2],[1.5,1.8],[5,8],\n",
    "              [8,8],[1,0.6],[9,11]])"
   ]
  },
  {
   "cell_type": "code",
   "execution_count": 5,
   "id": "dfe739fa",
   "metadata": {},
   "outputs": [
    {
     "data": {
      "image/png": "[encoded data removed]",
      "text/plain": [
       "<Figure size 640x480 with 1 Axes>"
      ]
     },
     "metadata": {},
     "output_type": "display_data"
    }
   ],
   "source": [
    "plt.scatter(X[:,0],X[:,1])\n",
    "plt.show()"
   ]
  },
  {
   "cell_type": "code",
   "execution_count": 15,
   "id": "b2e8a4cf",
   "metadata": {},
   "outputs": [],
   "source": [
    "def fit(data,k=2,max_iter=100):\n",
    "    means = []\n",
    "    #randomly initialize the means\n",
    "    for i in range(k):\n",
    "        means.append(data[i])\n",
    "    for i in range(max_iter):\n",
    "        # assign the clusters data points belong to\n",
    "        \n",
    "        clusters = []\n",
    "        \n",
    "        #empty clusters\n",
    "        for j in range(k):\n",
    "            clusters.append([])\n",
    "            \n",
    "        for point in data:\n",
    "            # find dis to all mean values\n",
    "            distances = [((point-m)**2).sum() for m in means]\n",
    "            \n",
    "            # find min distance\n",
    "            minDistance = min(distances)\n",
    "            \n",
    "            # find cluster index for which we got the min distance -->l\n",
    "            l = distances.index(minDistance)\n",
    "            \n",
    "            # add this point to cluster\n",
    "            clusters[l].append(point)\n",
    "            \n",
    "        \n",
    "        # calculate the new means for each cluster\n",
    "        \n",
    "        changes=False\n",
    "        for j in range(k):\n",
    "            new_mean =np.average(clusters[j],axis=0)\n",
    "            \n",
    "            if not np.array_equal(means[j],new_mean):\n",
    "                change=True\n",
    "            \n",
    "            \n",
    "            means[j] = new_mean\n",
    "        \n",
    "        if not change:\n",
    "            break\n",
    "        \n",
    "    return means\n",
    "            \n",
    "        "
   ]
  },
  {
   "cell_type": "code",
   "execution_count": 26,
   "id": "f75c2d56",
   "metadata": {},
   "outputs": [],
   "source": [
    "def predict(test_data,means):\n",
    "    predictions=[]\n",
    "    for point in test_data:\n",
    "     # find dis to all mean values\n",
    "        distances = [((point-m)**2).sum() for m in means]\n",
    "\n",
    "        # find min distance\n",
    "        minDistance = min(distances)\n",
    "\n",
    "        # find cluster index for which we got the min distance -->l\n",
    "        l = distances.index(minDistance)\n",
    "\n",
    "        # add cluster index to predictions\n",
    "        predictions.append(l)\n",
    "    return predictions\n"
   ]
  },
  {
   "cell_type": "code",
   "execution_count": 20,
   "id": "7d65be27",
   "metadata": {},
   "outputs": [],
   "source": [
    "means = fit(X)"
   ]
  },
  {
   "cell_type": "code",
   "execution_count": 29,
   "id": "7f3b6dfb",
   "metadata": {},
   "outputs": [
    {
     "data": {
      "text/plain": [
       "[0, 0, 1, 1, 0, 1]"
      ]
     },
     "execution_count": 29,
     "metadata": {},
     "output_type": "execute_result"
    }
   ],
   "source": [
    "predict(X,means)"
   ]
  },
  {
   "cell_type": "code",
   "execution_count": null,
   "id": "7590e56b",
   "metadata": {},
   "outputs": [],
   "source": []
  },
  {
   "cell_type": "markdown",
   "id": "99fdc4bc",
   "metadata": {},
   "source": [
    "# Implementing KMeans class\n"
   ]
  },
  {
   "cell_type": "code",
   "execution_count": 47,
   "id": "45110754",
   "metadata": {},
   "outputs": [],
   "source": [
    "class K_Means:\n",
    "    def __init__(self,k=2,max_iter=100):\n",
    "        print(\"constructor\")\n",
    "        self.k=k\n",
    "        self.max_iter=max_iter\n",
    "        \n",
    "        \n",
    "        \n",
    "    def fit(self,data):\n",
    "        \n",
    "        k=self.k\n",
    "        max_iter = self.max_iter\n",
    "        \n",
    "        \n",
    "        means = []\n",
    "        #randomly initialize the means\n",
    "        for i in range(k):\n",
    "            means.append(data[i])\n",
    "        for i in range(max_iter):\n",
    "            # assign the clusters data points belong to\n",
    "\n",
    "            clusters = []\n",
    "\n",
    "            #empty clusters\n",
    "            for j in range(k):\n",
    "                clusters.append([])\n",
    "\n",
    "            for point in data:\n",
    "                # find dis to all mean values\n",
    "                distances = [((point-m)**2).sum() for m in means]\n",
    "\n",
    "                # find min distance\n",
    "                minDistance = min(distances)\n",
    "\n",
    "                # find cluster index for which we got the min distance -->l\n",
    "                l = distances.index(minDistance)\n",
    "\n",
    "                # add this point to cluster\n",
    "                clusters[l].append(point)\n",
    "\n",
    "\n",
    "            # calculate the new means for each cluster\n",
    "\n",
    "            changes=False\n",
    "            for j in range(k):\n",
    "                new_mean =np.average(clusters[j],axis=0)\n",
    "\n",
    "                if not np.array_equal(means[j],new_mean):\n",
    "                    change=True\n",
    "\n",
    "\n",
    "                means[j] = new_mean\n",
    "\n",
    "            if not change:\n",
    "                break\n",
    "\n",
    "        self.means = means\n",
    "    \n",
    "    \n",
    "    def predict(self,test_data):\n",
    "        \n",
    "        means = self.means\n",
    "        predictions=[]\n",
    "        for point in test_data:\n",
    "         # find dis to all mean values\n",
    "            distances = [((point-m)**2).sum() for m in means]\n",
    "\n",
    "            # find min distance\n",
    "            minDistance = min(distances)\n",
    "\n",
    "            # find cluster index for which we got the min distance -->l\n",
    "            l = distances.index(minDistance)\n",
    "\n",
    "            # add cluster index to predictions\n",
    "            predictions.append(l)\n",
    "        return predictions\n",
    "\n",
    "\n"
   ]
  },
  {
   "cell_type": "code",
   "execution_count": 48,
   "id": "be91d260",
   "metadata": {},
   "outputs": [
    {
     "name": "stdout",
     "output_type": "stream",
     "text": [
      "constructor\n"
     ]
    }
   ],
   "source": [
    "kmeans =  K_Means(2,10)"
   ]
  },
  {
   "cell_type": "code",
   "execution_count": 49,
   "id": "9e5788be",
   "metadata": {},
   "outputs": [],
   "source": [
    "kmeans.fit(X)"
   ]
  },
  {
   "cell_type": "code",
   "execution_count": 50,
   "id": "0c47a9ce",
   "metadata": {},
   "outputs": [
    {
     "data": {
      "text/plain": [
       "[0, 0, 1, 1, 0, 1]"
      ]
     },
     "execution_count": 50,
     "metadata": {},
     "output_type": "execute_result"
    }
   ],
   "source": [
    "kmeans.predict(X)"
   ]
  },
  {
   "cell_type": "code",
   "execution_count": 51,
   "id": "85b70412",
   "metadata": {},
   "outputs": [
    {
     "data": {
      "text/plain": [
       "[array([1.16666667, 1.46666667]), array([7.33333333, 9.        ])]"
      ]
     },
     "execution_count": 51,
     "metadata": {},
     "output_type": "execute_result"
    }
   ],
   "source": [
    "kmeans.means"
   ]
  }
 ],
 "metadata": {
  "kernelspec": {
   "display_name": "Python 3 (ipykernel)",
   "language": "python",
   "name": "python3"
  },
  "language_info": {
   "codemirror_mode": {
    "name": "ipython",
    "version": 3
   },
   "file_extension": ".py",
   "mimetype": "text/x-python",
   "name": "python",
   "nbconvert_exporter": "python",
   "pygments_lexer": "ipython3",
   "version": "3.11.4"
  }
 },
 "nbformat": 4,
 "nbformat_minor": 5
}
