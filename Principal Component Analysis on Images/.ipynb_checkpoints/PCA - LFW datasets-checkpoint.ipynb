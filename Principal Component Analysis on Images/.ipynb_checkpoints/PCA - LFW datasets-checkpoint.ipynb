{
 "cells": [
  {
   "cell_type": "code",
   "execution_count": null,
   "id": "a37a7dfb",
   "metadata": {},
   "outputs": [],
   "source": [
    "from sklearn import datasets\n",
    "import matplotlib.pyplot as plt\n",
    "from sklearn.decomposition import PCA\n",
    "from sklearn.model_selection import train_test_split\n",
    "from sklearn.metrics import classificaiton_report,confusion_matrix\n",
    "from sklearn import ensemble\n",
    "import time"
   ]
  },
  {
   "cell_type": "code",
   "execution_count": null,
   "id": "2cc1f10f",
   "metadata": {},
   "outputs": [],
   "source": [
    "lfw = datasets.fetch_lfw_people(min_faces_per_person=100,resize=0.4)\n"
   ]
  },
  {
   "cell_type": "code",
   "execution_count": null,
   "id": "78ec4cbf",
   "metadata": {},
   "outputs": [],
   "source": [
    "lfw.keys()"
   ]
  },
  {
   "cell_type": "code",
   "execution_count": null,
   "id": "54855fb5",
   "metadata": {},
   "outputs": [],
   "source": [
    "lfw.data.shape"
   ]
  },
  {
   "cell_type": "code",
   "execution_count": null,
   "id": "8b4b8e51",
   "metadata": {},
   "outputs": [],
   "source": [
    "lfw.images.shape"
   ]
  },
  {
   "cell_type": "code",
   "execution_count": null,
   "id": "b4208cbb",
   "metadata": {},
   "outputs": [],
   "source": [
    "fig = plt.figure(figsize=(8,8))\n",
    "for i in range(64):\n",
    "    ax = fig.add_subplot(8,8,i+1)\n",
    "    ax.imshow(lfw[i],cmap=plt.cm.bone)\n",
    "    \n",
    "plt.show()"
   ]
  },
  {
   "cell_type": "code",
   "execution_count": null,
   "id": "455a385d",
   "metadata": {},
   "outputs": [],
   "source": [
    "x,y = lfw.data,lfw.target\n",
    "x_train,x_test,y_train,y_test = train_test_split(x,y)\n",
    "pca = PCA()\n",
    "pca.fit(x_train)"
   ]
  },
  {
   "cell_type": "code",
   "execution_count": null,
   "id": "95e9a4ea",
   "metadata": {},
   "outputs": [],
   "source": [
    "k=0\n",
    "curr_variance = 0\n",
    "total = sum(pca.explained_variance_)\n",
    "while curr_variance/total<0.95:\n",
    "    curr_variance+= pca.explained_variance[k]\n",
    "    k++\n",
    "k"
   ]
  },
  {
   "cell_type": "code",
   "execution_count": null,
   "id": "bc2e3853",
   "metadata": {},
   "outputs": [],
   "source": [
    "pca_lfw = PCA(n_components=k,whiten=True)\n",
    "transformed = pca_lfw.fit_transform(x)\n",
    "transformed.shape"
   ]
  },
  {
   "cell_type": "code",
   "execution_count": null,
   "id": "e37e5bc0",
   "metadata": {},
   "outputs": [],
   "source": [
    "x_approx = pca_lfw.inverse_transform(transformed)\n",
    "x_approx = x_approx.reshape(1140,50,37)"
   ]
  },
  {
   "cell_type": "code",
   "execution_count": null,
   "id": "851dc976",
   "metadata": {},
   "outputs": [],
   "source": [
    "fig = plt.figure(figsize=(8,8))\n",
    "for i in range(64):\n",
    "    ax = fig.add_subplot(8,8,i+1)\n",
    "    ax.imshow(x_approx[i],cmap=plt.cm.bone)\n",
    "    \n",
    "plt.show()"
   ]
  },
  {
   "cell_type": "code",
   "execution_count": null,
   "id": "c248eeb2",
   "metadata": {},
   "outputs": [],
   "source": []
  },
  {
   "cell_type": "code",
   "execution_count": null,
   "id": "e0bb5e18",
   "metadata": {},
   "outputs": [],
   "source": [
    "x_train_pca = transformed\n",
    "x_test_pca = pca_lfw.transform(x_test)"
   ]
  },
  {
   "cell_type": "markdown",
   "id": "6aa9714c",
   "metadata": {},
   "source": [
    "# Without PCA : RandomForest Prediction"
   ]
  },
  {
   "cell_type": "code",
   "execution_count": null,
   "id": "aa5af873",
   "metadata": {},
   "outputs": [],
   "source": [
    "rf = ensemble.RandomForestClassifier()\n",
    "start = time.time()\n",
    "rf.fit(x_train,y_train)\n",
    "print(time.time()-start)\n",
    "y_pred=rf.predict(x_test)\n",
    "print(classification_report(y_test,y_pred))\n",
    "print(confusion_matrix(y_test,y_pred))"
   ]
  },
  {
   "cell_type": "code",
   "execution_count": null,
   "id": "f58710d5",
   "metadata": {},
   "outputs": [],
   "source": []
  },
  {
   "cell_type": "markdown",
   "id": "01bbc451",
   "metadata": {},
   "source": [
    "# With PCA : Random Forest Prediction"
   ]
  },
  {
   "cell_type": "code",
   "execution_count": null,
   "id": "bf48c8bb",
   "metadata": {},
   "outputs": [],
   "source": [
    "rf = ensemble.RandomForestClassifier()\n",
    "start = time.time()\n",
    "rf.fit(x_train_pca,y_train)\n",
    "print(time.time()-start)\n",
    "y_pred=rf.predict(x_test_pca)\n",
    "print(classification_report(y_test,y_pred))\n",
    "print(confusion_matrix(y_test,y_pred))"
   ]
  },
  {
   "cell_type": "code",
   "execution_count": null,
   "id": "dfe7bbb3",
   "metadata": {},
   "outputs": [],
   "source": []
  },
  {
   "cell_type": "code",
   "execution_count": null,
   "id": "f4fccae9",
   "metadata": {},
   "outputs": [],
   "source": []
  },
  {
   "cell_type": "code",
   "execution_count": null,
   "id": "cd46f257",
   "metadata": {},
   "outputs": [],
   "source": []
  },
  {
   "cell_type": "code",
   "execution_count": null,
   "id": "211b823a",
   "metadata": {},
   "outputs": [],
   "source": []
  },
  {
   "cell_type": "code",
   "execution_count": null,
   "id": "40edb25f",
   "metadata": {},
   "outputs": [],
   "source": []
  },
  {
   "cell_type": "code",
   "execution_count": null,
   "id": "650cbf47",
   "metadata": {},
   "outputs": [],
   "source": []
  },
  {
   "cell_type": "code",
   "execution_count": null,
   "id": "7644b3a3",
   "metadata": {},
   "outputs": [],
   "source": []
  },
  {
   "cell_type": "code",
   "execution_count": null,
   "id": "a113b352",
   "metadata": {},
   "outputs": [],
   "source": []
  },
  {
   "cell_type": "code",
   "execution_count": null,
   "id": "f4e7a4fc",
   "metadata": {},
   "outputs": [],
   "source": []
  },
  {
   "cell_type": "code",
   "execution_count": null,
   "id": "421047a6",
   "metadata": {},
   "outputs": [],
   "source": []
  },
  {
   "cell_type": "code",
   "execution_count": null,
   "id": "864764ba",
   "metadata": {},
   "outputs": [],
   "source": []
  },
  {
   "cell_type": "code",
   "execution_count": null,
   "id": "fb766ef5",
   "metadata": {},
   "outputs": [],
   "source": []
  },
  {
   "cell_type": "code",
   "execution_count": null,
   "id": "d8abba53",
   "metadata": {},
   "outputs": [],
   "source": []
  }
 ],
 "metadata": {
  "kernelspec": {
   "display_name": "Python 3 (ipykernel)",
   "language": "python",
   "name": "python3"
  },
  "language_info": {
   "codemirror_mode": {
    "name": "ipython",
    "version": 3
   },
   "file_extension": ".py",
   "mimetype": "text/x-python",
   "name": "python",
   "nbconvert_exporter": "python",
   "pygments_lexer": "ipython3",
   "version": "3.11.4"
  }
 },
 "nbformat": 4,
 "nbformat_minor": 5
}
